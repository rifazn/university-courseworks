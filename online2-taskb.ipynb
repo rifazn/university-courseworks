{
 "cells": [
  {
   "cell_type": "markdown",
   "metadata": {},
   "source": [
    "# Simulation and Modeling Lab, Sec C\n",
    "\n",
    "Online 2\n",
    "\n",
    "Rifaz Nahiyan\n",
    "\n",
    "011152054\n"
   ]
  },
  {
   "cell_type": "markdown",
   "metadata": {},
   "source": [
    "Q: Calculate the value of 'pi' using the _Monte Carlo_ method. Also plot the error vs. number of trials graph."
   ]
  },
  {
   "cell_type": "markdown",
   "metadata": {},
   "source": [
    "## Imports"
   ]
  },
  {
   "cell_type": "code",
   "execution_count": 1,
   "metadata": {},
   "outputs": [],
   "source": [
    "from random import random\n",
    "from math import sqrt\n",
    "import numpy as np\n",
    "import matplotlib.pyplot as plotter"
   ]
  },
  {
   "cell_type": "markdown",
   "metadata": {},
   "source": [
    "## Variables"
   ]
  },
  {
   "cell_type": "code",
   "execution_count": 2,
   "metadata": {},
   "outputs": [],
   "source": [
    "epochs = 110\n",
    "theoretical_pi = 3.1416\n",
    "radius = 8.5 # Given from question\n",
    "\n",
    "errors = []"
   ]
  },
  {
   "cell_type": "code",
   "execution_count": 3,
   "metadata": {},
   "outputs": [],
   "source": [
    "def dist(x1, y1, x2, y2):\n",
    "    return sqrt((x1 - x2) ** 2 + (y1 - y2) ** 2)\n",
    "\n",
    "def monte_carlo_pi(num_of_trials, radius):\n",
    "    \"\"\"This function, returns the value of pi according to the parameters and only that.\"\"\"\n",
    "    \n",
    "    hits = 0\n",
    "    for i in range(num_of_trials):\n",
    "        xrand = round(random() * radius, 1)\n",
    "        yrand = round(random() * radius, 1)\n",
    "\n",
    "        if dist(xrand, yrand, 0, 0) <= radius:\n",
    "            hits = hits + 1\n",
    "\n",
    "    return round(hits / num_of_trials * 4, 4)"
   ]
  },
  {
   "cell_type": "code",
   "execution_count": null,
   "metadata": {
    "scrolled": false
   },
   "outputs": [],
   "source": []
  },
  {
   "cell_type": "markdown",
   "metadata": {},
   "source": [
    "## Simulating"
   ]
  },
  {
   "cell_type": "code",
   "execution_count": 4,
   "metadata": {},
   "outputs": [
    {
     "data": {
      "text/plain": [
       "[<matplotlib.lines.Line2D at 0x7ff74c3872e0>]"
      ]
     },
     "execution_count": 4,
     "metadata": {},
     "output_type": "execute_result"
    },
    {
     "data": {
      "image/png": "[encoded data removed]",
      "text/plain": [
       "<Figure size 432x288 with 1 Axes>"
      ]
     },
     "metadata": {
      "needs_background": "light"
     },
     "output_type": "display_data"
    }
   ],
   "source": [
    "trials = list(range(10, epochs+1, 10))\n",
    "\n",
    "for t in trials:\n",
    "    exp_pi = monte_carlo_pi(t, radius)\n",
    "    errors += [abs(theoretical_pi - exp_pi)]\n",
    "\n",
    "X = trials[:]\n",
    "Y = errors[:]\n",
    "\n",
    "plotter.xlabel('Number of trials')\n",
    "plotter.ylabel('Error')\n",
    "plotter.suptitle('Error of experimental value of Pi Vs. Number of trials')\n",
    "plotter.plot(X, Y)"
   ]
  },
  {
   "cell_type": "code",
   "execution_count": null,
   "metadata": {},
   "outputs": [],
   "source": []
  }
 ],
 "metadata": {
  "kernelspec": {
   "display_name": "Python 3",
   "language": "python",
   "name": "python3"
  },
  "language_info": {
   "codemirror_mode": {
    "name": "ipython",
    "version": 3
   },
   "file_extension": ".py",
   "mimetype": "text/x-python",
   "name": "python",
   "nbconvert_exporter": "python",
   "pygments_lexer": "ipython3",
   "version": "3.8.6"
  }
 },
 "nbformat": 4,
 "nbformat_minor": 4
}
