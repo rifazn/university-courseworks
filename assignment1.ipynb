{
 "cells": [
  {
   "cell_type": "markdown",
   "metadata": {},
   "source": [
    "# Simulation and Modeling Lab, Sec C\n",
    "## Assignment 1\n",
    "\n",
    "*Rifaz Nahiyan*\n",
    "\n",
    "*011152054*"
   ]
  },
  {
   "cell_type": "markdown",
   "metadata": {},
   "source": [
    "Q: Calculate the experimental probability of a six sided dice roll then draw the graph of _error vs. the no. of trials_, where  `error = (theoretical probability - exp. probability)`."
   ]
  },
  {
   "cell_type": "markdown",
   "metadata": {},
   "source": [
    "### Imports"
   ]
  },
  {
   "cell_type": "code",
   "execution_count": 1,
   "metadata": {},
   "outputs": [],
   "source": [
    "import random\n",
    "import matplotlib.pyplot as plotter"
   ]
  },
  {
   "cell_type": "markdown",
   "metadata": {},
   "source": [
    "### Variables"
   ]
  },
  {
   "cell_type": "code",
   "execution_count": 2,
   "metadata": {},
   "outputs": [],
   "source": [
    "epochs = 101\n",
    "num_of_trials = list(range(10, epochs, 10)) # This will be the x-axis in the graph := [10, 20, ..., 100]\n",
    "errors = [] # Once populated, this will be the y-axis in the graph\n",
    "\n",
    "dice_size = 6\n",
    "probabilities = [0] * dice_size\n",
    "theoretical_probability = round(1/6, 2)\n",
    "counts = [0] * dice_size"
   ]
  },
  {
   "cell_type": "markdown",
   "metadata": {},
   "source": [
    "### Main loop"
   ]
  },
  {
   "cell_type": "code",
   "execution_count": 3,
   "metadata": {},
   "outputs": [
    {
     "name": "stdout",
     "output_type": "stream",
     "text": [
      "Error for 10 trials is 0.46.\n",
      "Error for 20 trials is 0.36.\n",
      "Error for 30 trials is 0.34.\n",
      "Error for 40 trials is 0.4.\n",
      "Error for 50 trials is 0.2.\n",
      "Error for 60 trials is 0.3.\n",
      "Error for 70 trials is 0.2.\n",
      "Error for 80 trials is 0.15.\n",
      "Error for 90 trials is 0.2.\n",
      "Error for 100 trials is 0.12.\n"
     ]
    }
   ],
   "source": [
    "for trials in num_of_trials:\n",
    "    for _ in range(trials):\n",
    "        rand_dice_face = random.randrange(dice_size)\n",
    "        counts[rand_dice_face] = counts[rand_dice_face] + 1\n",
    "    for i in range(dice_size):\n",
    "        probabilities[i] = round(counts[i] / trials, 2)\n",
    "    \n",
    "    err = 0.0\n",
    "    for i in range(dice_size):\n",
    "        err = round( err + abs(theoretical_probability - probabilities[i]),  2)\n",
    "    errors.append(err)\n",
    "    \n",
    "    # Reset counts and probabilities\n",
    "    for i in range(dice_size):\n",
    "        counts[i] = 0\n",
    "        probabilities[i] = 0\n",
    "\n",
    "    print(f'Error for {trials} trials is {err}.')"
   ]
  },
  {
   "cell_type": "code",
   "execution_count": 4,
   "metadata": {},
   "outputs": [
    {
     "data": {
      "text/plain": [
       "[<matplotlib.lines.Line2D at 0x7f021986ee80>]"
      ]
     },
     "execution_count": 4,
     "metadata": {},
     "output_type": "execute_result"
    },
    {
     "data": {
      "image/png": "[encoded data removed]",
      "text/plain": [
       "<Figure size 432x288 with 1 Axes>"
      ]
     },
     "metadata": {
      "needs_background": "light"
     },
     "output_type": "display_data"
    }
   ],
   "source": [
    "X = num_of_trials[:]\n",
    "Y = errors[:]\n",
    "\n",
    "plotter.suptitle('Dice roll probability error vs. number of trials.')\n",
    "plotter.xlabel('Number of trials')\n",
    "plotter.ylabel('Error')\n",
    "plotter.plot(X, Y)"
   ]
  }
 ],
 "metadata": {
  "kernelspec": {
   "display_name": "Python 3",
   "language": "python",
   "name": "python3"
  },
  "language_info": {
   "codemirror_mode": {
    "name": "ipython",
    "version": 3
   },
   "file_extension": ".py",
   "mimetype": "text/x-python",
   "name": "python",
   "nbconvert_exporter": "python",
   "pygments_lexer": "ipython3",
   "version": "3.8.6"
  }
 },
 "nbformat": 4,
 "nbformat_minor": 4
}
