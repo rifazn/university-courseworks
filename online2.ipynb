{
 "cells": [
  {
   "cell_type": "markdown",
   "metadata": {},
   "source": [
    "# Simulation and Modeling Lab, Sec C\n",
    "\n",
    "Online 2\n",
    "\n",
    "Rifaz Nahiyan\n",
    "\n",
    "011152054\n"
   ]
  },
  {
   "cell_type": "markdown",
   "metadata": {},
   "source": [
    "Q: Calculate the value of 'pi' using the _Monte Carlo_ method. Also, plot the random points (that you used in Monte Carlo) in a graph. For plotting the graph, color the points that are within the circle of given radius green, and red otherwise."
   ]
  },
  {
   "cell_type": "markdown",
   "metadata": {},
   "source": [
    "## Imports"
   ]
  },
  {
   "cell_type": "code",
   "execution_count": 1,
   "metadata": {},
   "outputs": [],
   "source": [
    "from random import random\n",
    "from math import sqrt\n",
    "import numpy as np\n",
    "import matplotlib.pyplot as plotter"
   ]
  },
  {
   "cell_type": "markdown",
   "metadata": {},
   "source": [
    "## Variables"
   ]
  },
  {
   "cell_type": "code",
   "execution_count": 2,
   "metadata": {},
   "outputs": [],
   "source": [
    "X_good = []\n",
    "Y_good = []\n",
    "\n",
    "X_bad = []\n",
    "Y_bad = []"
   ]
  },
  {
   "cell_type": "code",
   "execution_count": 3,
   "metadata": {},
   "outputs": [],
   "source": [
    "def dist(x1, y1, x2, y2):\n",
    "    return sqrt((x1 - x2) ** 2 + (y1 - y2) ** 2)\n",
    "\n",
    "def monte_carlo_pi(num_of_trials, radius):\n",
    "    \"\"\"Find the exp. value of pi and populate an array of random x and y as well.\"\"\"\n",
    "    global X_good, Y_good\n",
    "    global X_bad, Y_bad\n",
    "    \n",
    "    hits = 0\n",
    "    for i in range(num_of_trials):\n",
    "        xrand = round(random() * radius, 1)\n",
    "        yrand = round(random() * radius, 1)\n",
    "        \n",
    "        # Half a chance for x to be negative\n",
    "        if random() < 0.5:\n",
    "            xrand = -1 * xrand\n",
    "        \n",
    "        if dist(xrand, yrand, 0, 0) <= radius:\n",
    "            X_good += [xrand]\n",
    "            Y_good += [yrand]\n",
    "            \n",
    "            hits = hits + 1\n",
    "        else:\n",
    "            X_bad += [xrand]\n",
    "            Y_bad += [yrand]\n",
    "\n",
    "    return round(hits / num_of_trials * 4, 4)\n",
    "\n",
    "def monte_carlo_pi_good_one(num_of_trials, radius):\n",
    "    \"\"\"This function, returns the value of pi according to the parameters and only that.\n",
    "    As all good functions should, it does one thing, and does it well.\n",
    "    The other function also populates array of the random vals of x and y as a side-effect.\"\"\"\n",
    "    \n",
    "    hits = 0\n",
    "    for i in range(num_of_trials):\n",
    "        xrand = round(random() * radius, 1)\n",
    "        yrand = round(random() * radius, 1)\n",
    "\n",
    "        if dist(xrand, yrand, 0, 0) <= radius:\n",
    "            hits = hits + 1\n",
    "\n",
    "    return round(hits / num_of_trials * 4, 4)"
   ]
  },
  {
   "cell_type": "code",
   "execution_count": null,
   "metadata": {
    "scrolled": false
   },
   "outputs": [],
   "source": []
  },
  {
   "cell_type": "markdown",
   "metadata": {},
   "source": [
    "## Simulating"
   ]
  },
  {
   "cell_type": "code",
   "execution_count": 4,
   "metadata": {},
   "outputs": [
    {
     "name": "stdout",
     "output_type": "stream",
     "text": [
      "\n",
      "Experimental value of pi after 10 trials is: 3.2\n",
      "\n",
      "\n"
     ]
    },
    {
     "data": {
      "image/png": "[encoded data removed]",
      "text/plain": [
       "<Figure size 432x288 with 1 Axes>"
      ]
     },
     "metadata": {
      "needs_background": "light"
     },
     "output_type": "display_data"
    }
   ],
   "source": [
    "trials=10\n",
    "ahundred = 100\n",
    "r = 8.5\n",
    "exp_pi = monte_carlo_pi(trials, r)\n",
    "\n",
    "X = np.linspace(r * -1, r, ahundred)\n",
    "Y = np.sqrt(r ** 2 - X ** 2)\n",
    "\n",
    "print()\n",
    "print(f'Experimental value of pi after {trials} trials is: {exp_pi}\\n\\n')\n",
    "\n",
    "plotter.plot(X, Y)\n",
    "plotter.plot(X_good, Y_good, 'g.')\n",
    "plotter.plot(X_bad, Y_bad, 'r.')\n",
    "\n",
    "plotter.suptitle('Monte Carlo Simulation')\n",
    "plotter.show()"
   ]
  },
  {
   "cell_type": "code",
   "execution_count": null,
   "metadata": {},
   "outputs": [],
   "source": []
  }
 ],
 "metadata": {
  "kernelspec": {
   "display_name": "Python 3",
   "language": "python",
   "name": "python3"
  },
  "language_info": {
   "codemirror_mode": {
    "name": "ipython",
    "version": 3
   },
   "file_extension": ".py",
   "mimetype": "text/x-python",
   "name": "python",
   "nbconvert_exporter": "python",
   "pygments_lexer": "ipython3",
   "version": "3.8.6"
  }
 },
 "nbformat": 4,
 "nbformat_minor": 4
}
